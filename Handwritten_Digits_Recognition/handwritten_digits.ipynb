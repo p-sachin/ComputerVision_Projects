{
 "cells": [
  {
   "cell_type": "code",
   "execution_count": 144,
   "metadata": {},
   "outputs": [],
   "source": [
    "import numpy as np\n",
    "import torch\n",
    "import matplotlib.pyplot as plt\n",
    "from torchvision import datasets, transforms\n",
    "from torch import nn, optim\n",
    "import torch.nn.functional as F\n",
    "import cv2\n",
    "%matplotlib inline"
   ]
  },
  {
   "cell_type": "code",
   "execution_count": 145,
   "metadata": {},
   "outputs": [],
   "source": [
    "# Helper function to visualize the image\n",
    "def view_classify(img1, img2, ps):\n",
    "    ''' Function for viewing an image and it's predicted classes.\n",
    "    '''\n",
    "    ps = F.softmax(ps,dim=1)\n",
    "    ps = ps.data.detach().numpy().squeeze()\n",
    "    fig, (ax1, ax2, ax3) = plt.subplots(figsize=(15, 10), ncols=3)\n",
    "    ax1.imshow(img1)\n",
    "    ax1.set_title('Original Image')\n",
    "    ax2.imshow(img2, cmap='gray')\n",
    "    ax2.set_title('Binary Image')\n",
    "    ax3.barh(np.arange(10), ps)\n",
    "    ax3.set_aspect(0.1)\n",
    "    ax3.set_yticks(np.arange(10))\n",
    "    ax3.set_title('Probability')\n",
    "    ax3.set_xlim(0, 1)"
   ]
  },
  {
   "cell_type": "code",
   "execution_count": 146,
   "metadata": {},
   "outputs": [],
   "source": [
    "# Initialize my Neural Network\n",
    "\n",
    "# My Saved Model\n",
    "def my_saved_model():\n",
    "    input_size = 784\n",
    "    hidden_sizes = [128, 64]\n",
    "    output_size = 10\n",
    "\n",
    "    model = nn.Sequential(nn.Linear(input_size, hidden_sizes[0]),\n",
    "                      nn.ReLU(),\n",
    "                      nn.Linear(hidden_sizes[0], hidden_sizes[1]),\n",
    "                      nn.ReLU(),\n",
    "                      nn.Linear(hidden_sizes[1], output_size),\n",
    "                      nn.LogSoftmax(dim=1))\n",
    "    return model"
   ]
  },
  {
   "cell_type": "code",
   "execution_count": 147,
   "metadata": {},
   "outputs": [],
   "source": [
    "# Preprocessing Function\n",
    "def img_processing(image):\n",
    "    # Converting the color model of the image to RGB and GRAY\n",
    "    img = cv2.imread(image)\n",
    "    img_rgb = cv2.cvtColor(img, cv2.COLOR_BGR2RGB)\n",
    "    img_gray = cv2.imread(image, cv2.IMREAD_GRAYSCALE)\n",
    "    # Using Inverse Binary Thresholding on the gray scale image with the threshold value of 130 and max value of 255\n",
    "    ret, dst = cv2.threshold(img_gray, 130, 255, cv2.THRESH_BINARY_INV)\n",
    "\n",
    "    #kernel morph transformation\n",
    "    kernel = np.ones((2,2),np.uint8)\n",
    "\n",
    "    # Dilating the whites to make it more thicker\n",
    "    dst = cv2.dilate(dst, kernel)\n",
    "    \n",
    "    # Resizing the image \n",
    "    re_rgb = cv2.resize(img_rgb, (28, 28))\n",
    "    re_dst = cv2.resize(dst, (28, 28))\n",
    "    return re_rgb, re_dst"
   ]
  },
  {
   "cell_type": "code",
   "execution_count": 148,
   "metadata": {},
   "outputs": [
    {
     "data": {
      "image/png": "[encoded data removed]",
      "text/plain": [
       "<Figure size 720x720 with 3 Axes>"
      ]
     },
     "metadata": {
      "needs_background": "light"
     },
     "output_type": "display_data"
    }
   ],
   "source": [
    "# Importing the image path and reading the image\n",
    "image_path = 'img/digits/2.png'\n",
    "image = cv2.imread(image_path)\n",
    "\n",
    "# calling the saved model on model object\n",
    "model_path = 'models/digits-model.pth'\n",
    "model = my_saved_model()\n",
    "\n",
    "# loading the previous state of the model\n",
    "model.load_state_dict(torch.load(model_path))\n",
    "\n",
    "re_rgb, re_dst = img_processing(image_path)\n",
    "\n",
    "# transforming the image into tensors for the models\n",
    "set_tensor = transforms.Compose([transforms.ToTensor()])\n",
    "img_tensor = set_tensor(re_dst)\n",
    "\n",
    "# Changing the shape of the image\n",
    "img = img_tensor.view(img_tensor.shape[0], -1)\n",
    "\n",
    "# Prediction\n",
    "prediction = model(img)\n",
    "label = prediction.argmax(dim=1).item()\n",
    "\n",
    "# Displaying the Predicted image\n",
    "view_classify(re_rgb, re_dst, prediction)\n",
    "#print(label)\n"
   ]
  }
 ],
 "metadata": {
  "interpreter": {
   "hash": "449625f8dd8d5804ea469d8ddea1db53934fdd1ef209ff52828328ca3da54206"
  },
  "kernelspec": {
   "display_name": "Python 3.7.11 64-bit ('ai-npl': conda)",
   "language": "python",
   "name": "python3"
  },
  "language_info": {
   "codemirror_mode": {
    "name": "ipython",
    "version": 3
   },
   "file_extension": ".py",
   "mimetype": "text/x-python",
   "name": "python",
   "nbconvert_exporter": "python",
   "pygments_lexer": "ipython3",
   "version": "3.7.11"
  },
  "orig_nbformat": 4
 },
 "nbformat": 4,
 "nbformat_minor": 2
}
